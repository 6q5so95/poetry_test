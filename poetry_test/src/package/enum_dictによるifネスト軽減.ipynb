{
 "cells": [
  {
   "cell_type": "code",
   "execution_count": 1,
   "metadata": {},
   "outputs": [
    {
     "name": "stdout",
     "output_type": "stream",
     "text": [
      "Stop\n"
     ]
    }
   ],
   "source": [
    "from enum import Enum\n",
    "\n",
    "class TrafficLight(Enum):\n",
    "    RED = 1\n",
    "    YELLOW = 2\n",
    "    GREEN = 3\n",
    "\n",
    "def handle_red():\n",
    "    print(\"Stop\")\n",
    "\n",
    "def handle_yellow():\n",
    "    print(\"Caution\")\n",
    "\n",
    "def handle_green():\n",
    "    print(\"Go\")\n",
    "\n",
    "def handle_unknown():\n",
    "    print(\"Unknown state\")\n",
    "\n",
    "# 例として、信号機の状態を示す変数\n",
    "current_light = TrafficLight.RED\n",
    "\n",
    "# ディスパッチテーブルの作成\n",
    "dispatch_table = {\n",
    "    TrafficLight.RED: handle_red,\n",
    "    TrafficLight.YELLOW: handle_yellow,\n",
    "    TrafficLight.GREEN: handle_green,\n",
    "}\n",
    "\n",
    "# Enumの値に対応する関数を呼び出す\n",
    "handler = dispatch_table.get(current_light, handle_unknown)\n",
    "handler()\n"
   ]
  },
  {
   "cell_type": "code",
   "execution_count": null,
   "metadata": {},
   "outputs": [],
   "source": []
  }
 ],
 "metadata": {
  "kernelspec": {
   "display_name": "Python 3",
   "language": "python",
   "name": "python3"
  },
  "language_info": {
   "codemirror_mode": {
    "name": "ipython",
    "version": 3
   },
   "file_extension": ".py",
   "mimetype": "text/x-python",
   "name": "python",
   "nbconvert_exporter": "python",
   "pygments_lexer": "ipython3",
   "version": "3.11.6"
  }
 },
 "nbformat": 4,
 "nbformat_minor": 2
}
