{
 "cells": [
  {
   "cell_type": "markdown",
   "metadata": {},
   "source": [
    "# logger"
   ]
  },
  {
   "cell_type": "code",
   "execution_count": 7,
   "metadata": {},
   "outputs": [
    {
     "name": "stderr",
     "output_type": "stream",
     "text": [
      "INFO:__main__:an error occured: division by zero\n",
      "Traceback (most recent call last):\n",
      "  File \"/tmp/ipykernel_178713/950500891.py\", line 5, in my_function\n",
      "    return 10 / 0\n",
      "           ~~~^~~\n",
      "ZeroDivisionError: division by zero\n"
     ]
    }
   ],
   "source": [
    "import logging\n",
    "\n",
    "def my_function(logger) -> float:\n",
    "    try:\n",
    "        return 10 / 0\n",
    "    except Exception as e:\n",
    "        logger.info(f'an error occured: {str(e)}', exc_info=True)\n",
    "\n",
    "# dummy main\n",
    "logging.basicConfig(level=logging.DEBUG)\n",
    "logger = logging.getLogger(__name__)\n",
    "my_function(logger)"
   ]
  },
  {
   "cell_type": "code",
   "execution_count": 12,
   "metadata": {},
   "outputs": [
    {
     "name": "stdout",
     "output_type": "stream",
     "text": [
      "get_method_docstring\n",
      "None\n",
      "None\n"
     ]
    }
   ],
   "source": [
    "import inspect\n",
    "\n",
    "class MyClass:\n",
    "    def my_method(self):\n",
    "        \"\"\"\n",
    "        This is the docstring of my_method.\n",
    "        \"\"\"\n",
    "        return \"Hello, World!\"\n",
    "\n",
    "    def get_method_docstring(self):\n",
    "        method_name = inspect.currentframe().f_code.co_name\n",
    "        print(method_name)\n",
    "        docstring = inspect.getdoc(getattr(self, method_name))\n",
    "        print(docstring)\n",
    "        return docstring[:-1] if docstring else None\n",
    "\n",
    "# dummy main\n",
    "obj = MyClass()\n",
    "docstring = obj.get_method_docstring()\n",
    "print(docstring)"
   ]
  },
  {
   "cell_type": "code",
   "execution_count": 13,
   "metadata": {},
   "outputs": [
    {
     "name": "stdout",
     "output_type": "stream",
     "text": [
      "my_method\n"
     ]
    }
   ],
   "source": [
    "class MyClass:\n",
    "    def my_method(self):\n",
    "        method_name = inspect.currentframe().f_code.co_name\n",
    "        print(method_name)\n",
    "\n",
    "obj = MyClass()\n",
    "obj.my_method()"
   ]
  },
  {
   "cell_type": "code",
   "execution_count": 17,
   "metadata": {},
   "outputs": [
    {
     "name": "stderr",
     "output_type": "stream",
     "text": [
      "ERROR:__main__:An error occurred in function my_function: division by zero\n",
      "Traceback (most recent call last):\n",
      "  File \"/tmp/ipykernel_178713/3047794893.py\", line 12, in my_function\n",
      "    result = 10 / 0  # 例外を発生させる例\n",
      "             ~~~^~~\n",
      "ZeroDivisionError: division by zero\n"
     ]
    }
   ],
   "source": [
    "import logging\n",
    "import inspect\n",
    "\n",
    "def log_error(logger, e):\n",
    "    calling_function = inspect.currentframe().f_back.f_code.co_name\n",
    "    #logger.error(\"An error occurred in function %s: %s\", calling_function, str(e), exc_info=True)\n",
    "    logger.error(f\"An error occurred in function {calling_function}: {str(e)}\", exc_info=True)\n",
    "\n",
    "def my_function(logger):\n",
    "    try:\n",
    "        # 何らかの処理\n",
    "        result = 10 / 0  # 例外を発生させる例\n",
    "    except Exception as e:\n",
    "        # エラー情報をログに出力\n",
    "        log_error(logger, e)\n",
    "\n",
    "\n",
    "# dummy main\n",
    "logging.basicConfig(level=logging.INFO)\n",
    "logger = logging.getLogger(__name__)\n",
    "my_function(logger)"
   ]
  },
  {
   "cell_type": "markdown",
   "metadata": {},
   "source": [
    "## logger引き渡し検証"
   ]
  },
  {
   "cell_type": "code",
   "execution_count": 19,
   "metadata": {},
   "outputs": [
    {
     "name": "stderr",
     "output_type": "stream",
     "text": [
      "INFO:__main__:Logging some information\n"
     ]
    }
   ],
   "source": [
    "import logging\n",
    "\n",
    "def my_function(logger, other_param1, other_param2):\n",
    "    logger.info('Logging some information')\n",
    "\n",
    "# dummy main\n",
    "logging.basicConfig(level=logging.INFO)\n",
    "logger = logging.getLogger(__name__)\n",
    "\n",
    "my_function(logger, 10, 20)\n"
   ]
  },
  {
   "cell_type": "code",
   "execution_count": 23,
   "metadata": {},
   "outputs": [
    {
     "name": "stderr",
     "output_type": "stream",
     "text": [
      "INFO:__main__:calling function my_function\n",
      "INFO:__main__:1 2\n",
      "INFO:__main__:my_function completed\n"
     ]
    }
   ],
   "source": [
    "# decoratorバージョン\n",
    "import logging\n",
    "from functools import wraps\n",
    "\n",
    "def log_function(logger):\n",
    "    def decorator(func):\n",
    "        @wraps(func)\n",
    "        def wrapper(*args, **kwargs):\n",
    "            logger.info(f'calling function {func.__name__}')\n",
    "            result = func(logger, *args, **kwargs)\n",
    "            logger.info(f'{func.__name__} completed')\n",
    "            return result\n",
    "        return wrapper\n",
    "    return decorator\n",
    "\n",
    "@log_function(logger=logging.getLogger(__name__))\n",
    "def my_function(logger, other_param1, other_param2):\n",
    "    logger.info(f'{other_param1} {other_param2}')\n",
    "\n",
    "# dummy main\n",
    "logging.basicConfig(level=logging.INFO)\n",
    "logger = logging.getLogger(__name__)\n",
    "\n",
    "my_function(1, 2)"
   ]
  },
  {
   "cell_type": "code",
   "execution_count": null,
   "metadata": {},
   "outputs": [],
   "source": [
    "# log_utils.py\n",
    "import logging\n",
    "from functools import wraps\n",
    "\n",
    "def log_method(func):\n",
    "    @wraps(func)\n",
    "    def wrapper(*args, **kwargs):\n",
    "        logger = getattr(args[0], \"logger\", logging.getLogger(__name__))\n",
    "        try:\n",
    "            logger.info(f\"Calling {func.__name__}\")\n",
    "            result = func(*args, **kwargs)\n",
    "            logger.info(f\"{func.__name__} completed\")\n",
    "            return result\n",
    "        except Exception as e:\n",
    "            logger.error(f\"An error occurred in {func.__name__}: {str(e)}\", exc_info=True)\n",
    "    return wrapper\n",
    "\n",
    "# my_module.py\n",
    "from log_utils import log_method\n",
    "\n",
    "class MyClass:\n",
    "    def __init__(self, logger=None):\n",
    "        self.logger = logger or logging.getLogger(__name__)\n",
    "\n",
    "    @staticmethod\n",
    "    @log_method\n",
    "    def my_static_method(other_param1, other_param2):\n",
    "        # 何らかの処理\n",
    "        result = other_param1 / other_param2\n",
    "        return result\n",
    "\n",
    "    @classmethod\n",
    "    @log_method\n",
    "    def my_class_method(cls, other_param1, other_param2):\n",
    "        # 何らかの処理\n",
    "        result = other_param1 * other_param2\n",
    "        return result\n",
    "\n",
    "    @log_method\n",
    "    def my_instance_method(self, other_param1, other_param2):\n",
    "        # 何らかの処理\n",
    "        result = other_param1 + other_param2\n",
    "        return result\n",
    "\n",
    "\n",
    "# main_module.py\n",
    "import logging\n",
    "from my_module import MyClass\n",
    "\n",
    "def main():\n",
    "    logging.basicConfig(level=logging.DEBUG)\n",
    "    logger = logging.getLogger(__name__)\n",
    "\n",
    "    # インスタンスを作成\n",
    "    my_instance = MyClass(logger=logger)\n",
    "\n",
    "    # 各メソッドを呼び出す\n",
    "    MyClass.my_static_method(10, 2)\n",
    "    MyClass.my_class_method(5, 3)\n",
    "    my_instance.my_instance_method(3, 7)\n",
    "\n",
    "if __name__ == \"__main__\":\n",
    "    main()\n",
    "\n",
    "\n"
   ]
  }
 ],
 "metadata": {
  "kernelspec": {
   "display_name": "base",
   "language": "python",
   "name": "python3"
  },
  "language_info": {
   "codemirror_mode": {
    "name": "ipython",
    "version": 3
   },
   "file_extension": ".py",
   "mimetype": "text/x-python",
   "name": "python",
   "nbconvert_exporter": "python",
   "pygments_lexer": "ipython3",
   "version": "3.11.6"
  }
 },
 "nbformat": 4,
 "nbformat_minor": 2
}
