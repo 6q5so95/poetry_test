{
 "cells": [
  {
   "cell_type": "markdown",
   "metadata": {},
   "source": [
    "# logger"
   ]
  },
  {
   "cell_type": "code",
   "execution_count": 7,
   "metadata": {},
   "outputs": [
    {
     "name": "stderr",
     "output_type": "stream",
     "text": [
      "INFO:__main__:an error occured: division by zero\n",
      "Traceback (most recent call last):\n",
      "  File \"/tmp/ipykernel_178713/950500891.py\", line 5, in my_function\n",
      "    return 10 / 0\n",
      "           ~~~^~~\n",
      "ZeroDivisionError: division by zero\n"
     ]
    }
   ],
   "source": [
    "import logging\n",
    "\n",
    "def my_function(logger) -> float:\n",
    "    try:\n",
    "        return 10 / 0\n",
    "    except Exception as e:\n",
    "        logger.info(f'an error occured: {str(e)}', exc_info=True)\n",
    "\n",
    "# dummy main\n",
    "logging.basicConfig(level=logging.DEBUG)\n",
    "logger = logging.getLogger(__name__)\n",
    "my_function(logger)"
   ]
  },
  {
   "cell_type": "code",
   "execution_count": 12,
   "metadata": {},
   "outputs": [
    {
     "name": "stdout",
     "output_type": "stream",
     "text": [
      "get_method_docstring\n",
      "None\n",
      "None\n"
     ]
    }
   ],
   "source": [
    "import inspect\n",
    "\n",
    "class MyClass:\n",
    "    def my_method(self):\n",
    "        \"\"\"\n",
    "        This is the docstring of my_method.\n",
    "        \"\"\"\n",
    "        return \"Hello, World!\"\n",
    "\n",
    "    def get_method_docstring(self):\n",
    "        method_name = inspect.currentframe().f_code.co_name\n",
    "        print(method_name)\n",
    "        docstring = inspect.getdoc(getattr(self, method_name))\n",
    "        print(docstring)\n",
    "        return docstring[:-1] if docstring else None\n",
    "\n",
    "# dummy main\n",
    "obj = MyClass()\n",
    "docstring = obj.get_method_docstring()\n",
    "print(docstring)"
   ]
  },
  {
   "cell_type": "code",
   "execution_count": 13,
   "metadata": {},
   "outputs": [
    {
     "name": "stdout",
     "output_type": "stream",
     "text": [
      "my_method\n"
     ]
    }
   ],
   "source": [
    "class MyClass:\n",
    "    def my_method(self):\n",
    "        method_name = inspect.currentframe().f_code.co_name\n",
    "        print(method_name)\n",
    "\n",
    "obj = MyClass()\n",
    "obj.my_method()"
   ]
  },
  {
   "cell_type": "code",
   "execution_count": 17,
   "metadata": {},
   "outputs": [
    {
     "name": "stderr",
     "output_type": "stream",
     "text": [
      "ERROR:__main__:An error occurred in function my_function: division by zero\n",
      "Traceback (most recent call last):\n",
      "  File \"/tmp/ipykernel_178713/3047794893.py\", line 12, in my_function\n",
      "    result = 10 / 0  # 例外を発生させる例\n",
      "             ~~~^~~\n",
      "ZeroDivisionError: division by zero\n"
     ]
    }
   ],
   "source": [
    "import logging\n",
    "import inspect\n",
    "\n",
    "def log_error(logger, e):\n",
    "    calling_function = inspect.currentframe().f_back.f_code.co_name\n",
    "    #logger.error(\"An error occurred in function %s: %s\", calling_function, str(e), exc_info=True)\n",
    "    logger.error(f\"An error occurred in function {calling_function}: {str(e)}\", exc_info=True)\n",
    "\n",
    "def my_function(logger):\n",
    "    try:\n",
    "        # 何らかの処理\n",
    "        result = 10 / 0  # 例外を発生させる例\n",
    "    except Exception as e:\n",
    "        # エラー情報をログに出力\n",
    "        log_error(logger, e)\n",
    "\n",
    "\n",
    "# dummy main\n",
    "logging.basicConfig(level=logging.INFO)\n",
    "logger = logging.getLogger(__name__)\n",
    "my_function(logger)"
   ]
  },
  {
   "cell_type": "markdown",
   "metadata": {},
   "source": [
    "## logger引き渡し検証"
   ]
  },
  {
   "cell_type": "code",
   "execution_count": 19,
   "metadata": {},
   "outputs": [
    {
     "name": "stderr",
     "output_type": "stream",
     "text": [
      "INFO:__main__:Logging some information\n"
     ]
    }
   ],
   "source": [
    "import logging\n",
    "\n",
    "def my_function(logger, other_param1, other_param2):\n",
    "    logger.info('Logging some information')\n",
    "\n",
    "# dummy main\n",
    "logging.basicConfig(level=logging.INFO)\n",
    "logger = logging.getLogger(__name__)\n",
    "\n",
    "my_function(logger, 10, 20)\n"
   ]
  },
  {
   "cell_type": "code",
   "execution_count": 23,
   "metadata": {},
   "outputs": [
    {
     "name": "stderr",
     "output_type": "stream",
     "text": [
      "INFO:__main__:calling function my_function\n",
      "INFO:__main__:1 2\n",
      "INFO:__main__:my_function completed\n"
     ]
    }
   ],
   "source": [
    "# decoratorバージョン\n",
    "import logging\n",
    "from functools import wraps\n",
    "\n",
    "def log_function(logger):\n",
    "    def decorator(func):\n",
    "        @wraps(func)\n",
    "        def wrapper(*args, **kwargs):\n",
    "            logger.info(f'calling function {func.__name__}')\n",
    "            result = func(logger, *args, **kwargs)\n",
    "            logger.info(f'{func.__name__} completed')\n",
    "            return result\n",
    "        return wrapper\n",
    "    return decorator\n",
    "\n",
    "@log_function(logger=logging.getLogger(__name__))\n",
    "def my_function(logger, other_param1, other_param2):\n",
    "    logger.info(f'{other_param1} {other_param2}')\n",
    "\n",
    "# dummy main\n",
    "logging.basicConfig(level=logging.INFO)\n",
    "logger = logging.getLogger(__name__)\n",
    "\n",
    "my_function(1, 2)"
   ]
  },
  {
   "cell_type": "code",
   "execution_count": null,
   "metadata": {},
   "outputs": [],
   "source": [
    "# log_utils.py\n",
    "import logging\n",
    "from functools import wraps\n",
    "\n",
    "def log_method(func):\n",
    "    @wraps(func)\n",
    "    def wrapper(*args, **kwargs):\n",
    "        logger = getattr(args[0], \"logger\", logging.getLogger(__name__))\n",
    "        try:\n",
    "            logger.info(f\"Calling {func.__name__}\")\n",
    "            result = func(*args, **kwargs)\n",
    "            logger.info(f\"{func.__name__} completed\")\n",
    "            return result\n",
    "        except Exception as e:\n",
    "            logger.error(f\"An error occurred in {func.__name__}: {str(e)}\", exc_info=True)\n",
    "    return wrapper\n",
    "\n",
    "# my_module.py\n",
    "from log_utils import log_method\n",
    "\n",
    "class MyClass:\n",
    "    def __init__(self, logger=None):\n",
    "        self.logger = logger or logging.getLogger(__name__)\n",
    "\n",
    "    @staticmethod\n",
    "    @log_method\n",
    "    def my_static_method(other_param1, other_param2):\n",
    "        # 何らかの処理\n",
    "        result = other_param1 / other_param2\n",
    "        return result\n",
    "\n",
    "    @classmethod\n",
    "    @log_method\n",
    "    def my_class_method(cls, other_param1, other_param2):\n",
    "        # 何らかの処理\n",
    "        result = other_param1 * other_param2\n",
    "        return result\n",
    "\n",
    "    @log_method\n",
    "    def my_instance_method(self, other_param1, other_param2):\n",
    "        # 何らかの処理\n",
    "        result = other_param1 + other_param2\n",
    "        return result\n",
    "\n",
    "\n",
    "# main_module.py\n",
    "import logging\n",
    "from my_module import MyClass\n",
    "\n",
    "def main():\n",
    "    logging.basicConfig(level=logging.DEBUG)\n",
    "    logger = logging.getLogger(__name__)\n",
    "\n",
    "    # インスタンスを作成\n",
    "    my_instance = MyClass(logger=logger)\n",
    "\n",
    "    # 各メソッドを呼び出す\n",
    "    MyClass.my_static_method(10, 2)\n",
    "    MyClass.my_class_method(5, 3)\n",
    "    my_instance.my_instance_method(3, 7)\n",
    "\n",
    "if __name__ == \"__main__\":\n",
    "    main()\n",
    "\n",
    "\n"
   ]
  },
  {
   "cell_type": "code",
   "execution_count": 1,
   "metadata": {},
   "outputs": [
    {
     "ename": "ImportError",
     "evalue": "cannot import name 'Singleton' from 'typing' (/home/satoshi/.pyenv/versions/3.11.6/lib/python3.11/typing.py)",
     "output_type": "error",
     "traceback": [
      "\u001b[0;31m---------------------------------------------------------------------------\u001b[0m",
      "\u001b[0;31mImportError\u001b[0m                               Traceback (most recent call last)",
      "Cell \u001b[0;32mIn[1], line 1\u001b[0m\n\u001b[0;32m----> 1\u001b[0m \u001b[38;5;28;01mfrom\u001b[39;00m \u001b[38;5;21;01mtyping\u001b[39;00m \u001b[38;5;28;01mimport\u001b[39;00m Singleton\n",
      "\u001b[0;31mImportError\u001b[0m: cannot import name 'Singleton' from 'typing' (/home/satoshi/.pyenv/versions/3.11.6/lib/python3.11/typing.py)"
     ]
    }
   ],
   "source": [
    "from typing import Singleton"
   ]
  },
  {
   "cell_type": "code",
   "execution_count": 2,
   "metadata": {},
   "outputs": [],
   "source": [
    "import json\n",
    "import logging\n",
    "import inspect\n",
    "\n",
    "class SingletonType(type):\n",
    "    _instances = {}\n",
    "\n",
    "    def __call__(cls, *args, **kwargs):\n",
    "        if cls not in cls._instances:\n",
    "            cls._instances[cls] = super().__call__(*args, **kwargs)\n",
    "        return cls._instances[cls]\n",
    "\n",
    "class FunctionPackageLogger(metaclass=SingletonType):\n",
    "    def __init__(self, name):\n",
    "        self.logger = logging.getLogger(name)\n",
    "        self.load_message_table()\n",
    "\n",
    "    def load_message_table(self):\n",
    "        with open(\"messages.json\") as f:\n",
    "            self.message_table = json.load(f)\n",
    "\n",
    "    def log_message(self, msg_id, **kwargs):\n",
    "        message = self.message_table.get(msg_id, msg_id)\n",
    "        caller_frame = inspect.currentframe().f_back\n",
    "        caller_name = caller_frame.f_code.co_name\n",
    "        caller_lineno = caller_frame.f_lineno\n",
    "        self.logger.info(f\"{caller_name} (line {caller_lineno}): {message}\", extra=kwargs)"
   ]
  },
  {
   "cell_type": "code",
   "execution_count": 3,
   "metadata": {},
   "outputs": [
    {
     "ename": "FileNotFoundError",
     "evalue": "[Errno 2] No such file or directory: 'messages.json'",
     "output_type": "error",
     "traceback": [
      "\u001b[0;31m---------------------------------------------------------------------------\u001b[0m",
      "\u001b[0;31mFileNotFoundError\u001b[0m                         Traceback (most recent call last)",
      "Cell \u001b[0;32mIn[3], line 5\u001b[0m\n\u001b[1;32m      2\u001b[0m     function_package_logger \u001b[38;5;241m=\u001b[39m FunctionPackageLogger(\u001b[38;5;18m__name__\u001b[39m)\n\u001b[1;32m      3\u001b[0m     function_package_logger\u001b[38;5;241m.\u001b[39mlog_message(\u001b[38;5;124m\"\u001b[39m\u001b[38;5;124msome_message_id\u001b[39m\u001b[38;5;124m\"\u001b[39m)\n\u001b[0;32m----> 5\u001b[0m \u001b[43msome_function\u001b[49m\u001b[43m(\u001b[49m\u001b[43m)\u001b[49m\n",
      "Cell \u001b[0;32mIn[3], line 2\u001b[0m, in \u001b[0;36msome_function\u001b[0;34m()\u001b[0m\n\u001b[1;32m      1\u001b[0m \u001b[38;5;28;01mdef\u001b[39;00m \u001b[38;5;21msome_function\u001b[39m():\n\u001b[0;32m----> 2\u001b[0m     function_package_logger \u001b[38;5;241m=\u001b[39m \u001b[43mFunctionPackageLogger\u001b[49m\u001b[43m(\u001b[49m\u001b[38;5;18;43m__name__\u001b[39;49m\u001b[43m)\u001b[49m\n\u001b[1;32m      3\u001b[0m     function_package_logger\u001b[38;5;241m.\u001b[39mlog_message(\u001b[38;5;124m\"\u001b[39m\u001b[38;5;124msome_message_id\u001b[39m\u001b[38;5;124m\"\u001b[39m)\n",
      "Cell \u001b[0;32mIn[2], line 10\u001b[0m, in \u001b[0;36mSingletonType.__call__\u001b[0;34m(cls, *args, **kwargs)\u001b[0m\n\u001b[1;32m      8\u001b[0m \u001b[38;5;28;01mdef\u001b[39;00m \u001b[38;5;21m__call__\u001b[39m(\u001b[38;5;28mcls\u001b[39m, \u001b[38;5;241m*\u001b[39margs, \u001b[38;5;241m*\u001b[39m\u001b[38;5;241m*\u001b[39mkwargs):\n\u001b[1;32m      9\u001b[0m     \u001b[38;5;28;01mif\u001b[39;00m \u001b[38;5;28mcls\u001b[39m \u001b[38;5;129;01mnot\u001b[39;00m \u001b[38;5;129;01min\u001b[39;00m \u001b[38;5;28mcls\u001b[39m\u001b[38;5;241m.\u001b[39m_instances:\n\u001b[0;32m---> 10\u001b[0m         \u001b[38;5;28mcls\u001b[39m\u001b[38;5;241m.\u001b[39m_instances[\u001b[38;5;28mcls\u001b[39m] \u001b[38;5;241m=\u001b[39m \u001b[38;5;28;43msuper\u001b[39;49m\u001b[43m(\u001b[49m\u001b[43m)\u001b[49m\u001b[38;5;241;43m.\u001b[39;49m\u001b[38;5;21;43m__call__\u001b[39;49m\u001b[43m(\u001b[49m\u001b[38;5;241;43m*\u001b[39;49m\u001b[43margs\u001b[49m\u001b[43m,\u001b[49m\u001b[43m \u001b[49m\u001b[38;5;241;43m*\u001b[39;49m\u001b[38;5;241;43m*\u001b[39;49m\u001b[43mkwargs\u001b[49m\u001b[43m)\u001b[49m\n\u001b[1;32m     11\u001b[0m     \u001b[38;5;28;01mreturn\u001b[39;00m \u001b[38;5;28mcls\u001b[39m\u001b[38;5;241m.\u001b[39m_instances[\u001b[38;5;28mcls\u001b[39m]\n",
      "Cell \u001b[0;32mIn[2], line 16\u001b[0m, in \u001b[0;36mFunctionPackageLogger.__init__\u001b[0;34m(self, name)\u001b[0m\n\u001b[1;32m     14\u001b[0m \u001b[38;5;28;01mdef\u001b[39;00m \u001b[38;5;21m__init__\u001b[39m(\u001b[38;5;28mself\u001b[39m, name):\n\u001b[1;32m     15\u001b[0m     \u001b[38;5;28mself\u001b[39m\u001b[38;5;241m.\u001b[39mlogger \u001b[38;5;241m=\u001b[39m logging\u001b[38;5;241m.\u001b[39mgetLogger(name)\n\u001b[0;32m---> 16\u001b[0m     \u001b[38;5;28;43mself\u001b[39;49m\u001b[38;5;241;43m.\u001b[39;49m\u001b[43mload_message_table\u001b[49m\u001b[43m(\u001b[49m\u001b[43m)\u001b[49m\n",
      "Cell \u001b[0;32mIn[2], line 19\u001b[0m, in \u001b[0;36mFunctionPackageLogger.load_message_table\u001b[0;34m(self)\u001b[0m\n\u001b[1;32m     18\u001b[0m \u001b[38;5;28;01mdef\u001b[39;00m \u001b[38;5;21mload_message_table\u001b[39m(\u001b[38;5;28mself\u001b[39m):\n\u001b[0;32m---> 19\u001b[0m     \u001b[38;5;28;01mwith\u001b[39;00m \u001b[38;5;28;43mopen\u001b[39;49m\u001b[43m(\u001b[49m\u001b[38;5;124;43m\"\u001b[39;49m\u001b[38;5;124;43mmessages.json\u001b[39;49m\u001b[38;5;124;43m\"\u001b[39;49m\u001b[43m)\u001b[49m \u001b[38;5;28;01mas\u001b[39;00m f:\n\u001b[1;32m     20\u001b[0m         \u001b[38;5;28mself\u001b[39m\u001b[38;5;241m.\u001b[39mmessage_table \u001b[38;5;241m=\u001b[39m json\u001b[38;5;241m.\u001b[39mload(f)\n",
      "File \u001b[0;32m~/.pyenv/versions/3.11.6/lib/python3.11/site-packages/IPython/core/interactiveshell.py:310\u001b[0m, in \u001b[0;36m_modified_open\u001b[0;34m(file, *args, **kwargs)\u001b[0m\n\u001b[1;32m    303\u001b[0m \u001b[38;5;28;01mif\u001b[39;00m file \u001b[38;5;129;01min\u001b[39;00m {\u001b[38;5;241m0\u001b[39m, \u001b[38;5;241m1\u001b[39m, \u001b[38;5;241m2\u001b[39m}:\n\u001b[1;32m    304\u001b[0m     \u001b[38;5;28;01mraise\u001b[39;00m \u001b[38;5;167;01mValueError\u001b[39;00m(\n\u001b[1;32m    305\u001b[0m         \u001b[38;5;124mf\u001b[39m\u001b[38;5;124m\"\u001b[39m\u001b[38;5;124mIPython won\u001b[39m\u001b[38;5;124m'\u001b[39m\u001b[38;5;124mt let you open fd=\u001b[39m\u001b[38;5;132;01m{\u001b[39;00mfile\u001b[38;5;132;01m}\u001b[39;00m\u001b[38;5;124m by default \u001b[39m\u001b[38;5;124m\"\u001b[39m\n\u001b[1;32m    306\u001b[0m         \u001b[38;5;124m\"\u001b[39m\u001b[38;5;124mas it is likely to crash IPython. If you know what you are doing, \u001b[39m\u001b[38;5;124m\"\u001b[39m\n\u001b[1;32m    307\u001b[0m         \u001b[38;5;124m\"\u001b[39m\u001b[38;5;124myou can use builtins\u001b[39m\u001b[38;5;124m'\u001b[39m\u001b[38;5;124m open.\u001b[39m\u001b[38;5;124m\"\u001b[39m\n\u001b[1;32m    308\u001b[0m     )\n\u001b[0;32m--> 310\u001b[0m \u001b[38;5;28;01mreturn\u001b[39;00m \u001b[43mio_open\u001b[49m\u001b[43m(\u001b[49m\u001b[43mfile\u001b[49m\u001b[43m,\u001b[49m\u001b[43m \u001b[49m\u001b[38;5;241;43m*\u001b[39;49m\u001b[43margs\u001b[49m\u001b[43m,\u001b[49m\u001b[43m \u001b[49m\u001b[38;5;241;43m*\u001b[39;49m\u001b[38;5;241;43m*\u001b[39;49m\u001b[43mkwargs\u001b[49m\u001b[43m)\u001b[49m\n",
      "\u001b[0;31mFileNotFoundError\u001b[0m: [Errno 2] No such file or directory: 'messages.json'"
     ]
    }
   ],
   "source": [
    "def some_function():\n",
    "    function_package_logger = FunctionPackageLogger(__name__)\n",
    "    function_package_logger.log_message(\"some_message_id\")\n",
    "\n",
    "some_function()"
   ]
  },
  {
   "cell_type": "code",
   "execution_count": null,
   "metadata": {},
   "outputs": [],
   "source": []
  }
 ],
 "metadata": {
  "kernelspec": {
   "display_name": "base",
   "language": "python",
   "name": "python3"
  },
  "language_info": {
   "codemirror_mode": {
    "name": "ipython",
    "version": 3
   },
   "file_extension": ".py",
   "mimetype": "text/x-python",
   "name": "python",
   "nbconvert_exporter": "python",
   "pygments_lexer": "ipython3",
   "version": "3.11.6"
  }
 },
 "nbformat": 4,
 "nbformat_minor": 2
}
