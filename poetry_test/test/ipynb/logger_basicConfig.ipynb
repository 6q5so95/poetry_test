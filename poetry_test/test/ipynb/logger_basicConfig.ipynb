{
 "cells": [
  {
   "cell_type": "code",
   "execution_count": 52,
   "metadata": {},
   "outputs": [],
   "source": [
    "\n",
    "from logging import (\n",
    "    DEBUG,\n",
    "    INFO,\n",
    "    WARNING,\n",
    "    basicConfig,\n",
    "    critical,\n",
    "    debug,\n",
    "    error,\n",
    "    exception,\n",
    "    info,\n",
    "    warning,\n",
    "    )"
   ]
  },
  {
   "cell_type": "code",
   "execution_count": 53,
   "metadata": {},
   "outputs": [],
   "source": [
    "def show_logs():\n",
    "    \"(possibly) show logs.\"\n",
    "    print('-' * 10)\n",
    "    debug('DEBUG level log')\n",
    "    print('-' * 10)\n",
    "    info('INFO level log')\n",
    "    print('-' * 10)\n",
    "    warning('WARNING level log')\n",
    "    print('-' * 10)\n",
    "    error('ERROR level log')\n",
    "    print('-' * 10)\n",
    "    try:\n",
    "        raise Exception('foo bar.')\n",
    "    except:\n",
    "        exception('EXCEPTION lev||el log')\n",
    "    print('-' * 10)\n",
    "    critical('CRITICAL level log')\n",
    "    print('-' * 10)\n",
    "\n"
   ]
  },
  {
   "cell_type": "code",
   "execution_count": 54,
   "metadata": {},
   "outputs": [
    {
     "name": "stdout",
     "output_type": "stream",
     "text": [
      "----------\n",
      "----------\n",
      "----------\n",
      "----------\n",
      "----------\n",
      "----------\n",
      "----------\n"
     ]
    }
   ],
   "source": [
    "basicConfig(\n",
    "    level=DEBUG,\n",
    "    filename='test.log',\n",
    "    format='%(asctime)s - %(levelname)s:%(name)s - %(message)s',\n",
    ")\n",
    "\n",
    "show_logs()"
   ]
  },
  {
   "cell_type": "code",
   "execution_count": 22,
   "metadata": {},
   "outputs": [
    {
     "name": "stdout",
     "output_type": "stream",
     "text": [
      "----------\n",
      "----------\n",
      "----------\n",
      "----------\n",
      "----------\n"
     ]
    }
   ],
   "source": [
    "print('-' * 10)\n",
    "debug('DEBUG level log')\n",
    "print('-' * 10)\n",
    "info('INFO level log')\n",
    "print('-' * 10)\n",
    "warning('WARNING level log')\n",
    "print('-' * 10)\n",
    "error('ERROR level log')\n",
    "print('-' * 10)"
   ]
  },
  {
   "cell_type": "code",
   "execution_count": 49,
   "metadata": {},
   "outputs": [],
   "source": [
    "import logging\n",
    "\n",
    "logger = logging.getLogger(__name__)\n",
    "# loggerのログレベルをINFOに設定\n",
    "logger.setLevel(logging.INFO)\n",
    "\n",
    "formatter = logging.Formatter('%(asctime)s - %(levelname)s:%(name)s - %(message)s')\n",
    "# ファイルハンドラでtest.logにログを出力するように設定\n",
    "file_handler = logging.FileHandler('test.log')\n",
    "# test.logに出力するログレベルを個別でERRORに設定\n",
    "file_handler.setLevel(logging.ERROR)\n",
    "file_handler.setFormatter(formatter)\n",
    "\n",
    "# コンソールに出力するためのStreamHandlerを設定\n",
    "stream_handler = logging.StreamHandler()\n",
    "stream_handler.setFormatter(formatter)\n",
    "\n",
    "# loggerにそれぞれのハンドラーを追加\n",
    "logger.addHandler(file_handler)\n",
    "logger.addHandler(stream_handler)"
   ]
  },
  {
   "cell_type": "code",
   "execution_count": 51,
   "metadata": {},
   "outputs": [
    {
     "name": "stderr",
     "output_type": "stream",
     "text": [
      "2023-12-23 13:04:40,396 - INFO:__main__ - info\n",
      "2023-12-23 13:04:40,396 - WARNING:__main__ - warning\n",
      "2023-12-23 13:04:40,397 - ERROR:__main__ - error\n",
      "2023-12-23 13:04:40,397 - CRITICAL:__main__ - critical\n"
     ]
    }
   ],
   "source": [
    "# ファイルハンドラでtest.logにログを出力するように設定\n",
    "\n",
    "logger.debug(\"debug\")\n",
    "logger.info(\"info\")\n",
    "logger.warning(\"warning\")\n",
    "logger.error(\"error\")\n",
    "logger.critical(\"critical\")\n"
   ]
  },
  {
   "cell_type": "code",
   "execution_count": null,
   "metadata": {},
   "outputs": [],
   "source": []
  }
 ],
 "metadata": {
  "kernelspec": {
   "display_name": "Python 3",
   "language": "python",
   "name": "python3"
  },
  "language_info": {
   "codemirror_mode": {
    "name": "ipython",
    "version": 3
   },
   "file_extension": ".py",
   "mimetype": "text/x-python",
   "name": "python",
   "nbconvert_exporter": "python",
   "pygments_lexer": "ipython3",
   "version": "3.11.6"
  }
 },
 "nbformat": 4,
 "nbformat_minor": 2
}
